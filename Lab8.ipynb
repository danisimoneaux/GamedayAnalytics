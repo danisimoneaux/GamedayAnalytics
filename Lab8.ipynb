{
  "nbformat": 4,
  "nbformat_minor": 0,
  "metadata": {
    "colab": {
      "provenance": [],
      "authorship_tag": "ABX9TyNq1ri+Zpk+1QonTjyC1H1z",
      "include_colab_link": true
    },
    "kernelspec": {
      "name": "python3",
      "display_name": "Python 3"
    },
    "language_info": {
      "name": "python"
    }
  },
  "cells": [
    {
      "cell_type": "markdown",
      "metadata": {
        "id": "view-in-github",
        "colab_type": "text"
      },
      "source": [
        "<a href=\"https://colab.research.google.com/github/danisimoneaux/GamedayAnalytics/blob/main/Lab8.ipynb\" target=\"_parent\"><img src=\"https://colab.research.google.com/assets/colab-badge.svg\" alt=\"Open In Colab\"/></a>"
      ]
    },
    {
      "cell_type": "code",
      "execution_count": null,
      "metadata": {
        "id": "5eQS194zUQuY"
      },
      "outputs": [],
      "source": [
        "import pandas as pd\n",
        "import matplotlib as mpl\n",
        "import sklearn as sl\n",
        "import numpy as np"
      ]
    },
    {
      "cell_type": "code",
      "source": [
        "from google.colab import drive \n",
        "drive.mount('/content/gdrive', force_remount=True)\n",
        "\n",
        "df = pd.read_csv (r'/content/gdrive/MyDrive/retail_dataset.csv', encoding='Latin1')\n",
        "\n",
        "print (df)"
      ],
      "metadata": {
        "colab": {
          "base_uri": "https://localhost:8080/"
        },
        "id": "FpcQff5iUZGr",
        "outputId": "e9ba0ac2-c2ea-4c7a-ee00-535c59accede"
      },
      "execution_count": null,
      "outputs": [
        {
          "output_type": "stream",
          "name": "stdout",
          "text": [
            "Mounted at /content/gdrive\n",
            "      customer_id      customer_name          address_line_1          city  \\\n",
            "0              67      Gordy Matteau     59 Northland Circle    Wilmington   \n",
            "1             201     Cort Paskerful         769 Buell Drive    Huntsville   \n",
            "2              45    Willetta Lumley       41 Ridgeway Alley        Irvine   \n",
            "3             106   Alison Batterton           489 Erie Hill      Richmond   \n",
            "4             357  Martelle Paxeford    451 Manitowish Place      Richmond   \n",
            "...           ...                ...                     ...           ...   \n",
            "9564          637  Jayson Andriessen  0819 Crownhardt Circle     Allentown   \n",
            "9565          370    Darby Tesseyman     7468 Jackson Circle        Albany   \n",
            "9566          598   Henka De Ferrari      89 Sunnyside Drive  Redwood City   \n",
            "9567          737    Tommie Penvarne    9630 Washington Hill     Watertown   \n",
            "9568          482       Matelda Bull      6406 Bultman Alley  Gaithersburg   \n",
            "\n",
            "                 state_province  postal_code  order_id  order_date  \\\n",
            "0     DE                             19805.0      1001  2020-01-11   \n",
            "1     AL                             35810.0      1002  2019-11-22   \n",
            "2     CA                             92612.0      1003  2019-09-17   \n",
            "3     VA                             23293.0      1004  2019-12-09   \n",
            "4     VA                             23293.0      1005  2019-06-08   \n",
            "...                         ...          ...       ...         ...   \n",
            "9564  Pennsylvania                       NaN      8143  2021-06-13   \n",
            "9565  NY                             12210.0      8144  2021-06-16   \n",
            "9566  California                     94064.0      8145  2021-05-09   \n",
            "9567  Massachusetts                   2472.0      8146  2021-04-13   \n",
            "9568  Maryland                       20883.0      8147  2021-03-21   \n",
            "\n",
            "      customer_id.1  order_id.1  product_id  quantity  product_id.1  \\\n",
            "0                67        1001         106       3.0           106   \n",
            "1               201        1002         104       2.0           104   \n",
            "2                45        1003         107       5.0           107   \n",
            "3               106        1004         106       8.0           106   \n",
            "4               357        1005         107       7.0           107   \n",
            "...             ...         ...         ...       ...           ...   \n",
            "9564            637        8143         113      16.0           113   \n",
            "9565            370        8144         109       1.0           109   \n",
            "9566            598        8145         110       1.0           110   \n",
            "9567            737        8146         113       2.0           113   \n",
            "9568            482        8147         113       5.0           113   \n",
            "\n",
            "                product_name product_price total_amount order_year_month  \\\n",
            "0          Great value Juice         $1.99        $5.97          2020-01   \n",
            "1                       Desk        $85.98      $171.96          2019-11   \n",
            "2             Dove deodorant         $3.99       $19.95          2019-09   \n",
            "3          Great value Juice         $1.99       $15.92          2019-12   \n",
            "4             Dove deodorant         $3.99       $27.93          2019-06   \n",
            "...                      ...           ...          ...              ...   \n",
            "9564          Extension cord        $15.59      $249.44          2021-06   \n",
            "9565  Samsung Galaxy Note 10       $749.99      $749.99          2021-06   \n",
            "9566         Apple iPad Mini       $329.99      $329.99          2021-05   \n",
            "9567          Extension cord        $15.59       $31.18          2021-04   \n",
            "9568          Extension cord        $15.59       $77.95          2021-03   \n",
            "\n",
            "     order_month  \n",
            "0      January    \n",
            "1      November   \n",
            "2      September  \n",
            "3      December   \n",
            "4      June       \n",
            "...          ...  \n",
            "9564   June       \n",
            "9565   June       \n",
            "9566   May        \n",
            "9567   April      \n",
            "9568   March      \n",
            "\n",
            "[9569 rows x 18 columns]\n"
          ]
        }
      ]
    },
    {
      "cell_type": "code",
      "source": [
        "#Which attributes have empty/null values?\n",
        "print(df.isnull().sum())"
      ],
      "metadata": {
        "colab": {
          "base_uri": "https://localhost:8080/"
        },
        "id": "F0AVRiuHVFEO",
        "outputId": "f1686dde-1afa-492b-cc73-ae941b66b87d"
      },
      "execution_count": null,
      "outputs": [
        {
          "output_type": "stream",
          "name": "stdout",
          "text": [
            "customer_id           0\n",
            "customer_name         0\n",
            "address_line_1      121\n",
            "city                 53\n",
            "state_province        0\n",
            "postal_code         153\n",
            "order_id              0\n",
            "order_date          257\n",
            "customer_id.1         0\n",
            "order_id.1            0\n",
            "product_id            0\n",
            "quantity             56\n",
            "product_id.1          0\n",
            "product_name          0\n",
            "product_price         0\n",
            "total_amount         56\n",
            "order_year_month    257\n",
            "order_month         257\n",
            "dtype: int64\n"
          ]
        }
      ]
    },
    {
      "cell_type": "code",
      "source": [
        "# Fix the issues with the customer state_province\n",
        "df['state_province'] = df['state_province'].str.strip()"
      ],
      "metadata": {
        "id": "62TrOKgxWXBt"
      },
      "execution_count": null,
      "outputs": []
    },
    {
      "cell_type": "code",
      "source": [
        "#Are there any nulls that can be corrected?\n",
        "mean_postal_code = df['postal_code'].mean()\n",
        "df['postal_code'].fillna(mean_postal_code, inplace=True)"
      ],
      "metadata": {
        "id": "Twjhv8FcWB-7"
      },
      "execution_count": null,
      "outputs": []
    },
    {
      "cell_type": "code",
      "source": [
        "#How many customers have complete addresses?\n",
        "complete_addresses = df[df['address_line_1'].notnull() & df['city'].notnull() & df['state_province'].notnull() & df['postal_code'].notnull()]\n",
        "print(f\"There are {len(complete_addresses)} customers with complete addresses out of {len(df)} total customers.\")"
      ],
      "metadata": {
        "colab": {
          "base_uri": "https://localhost:8080/"
        },
        "id": "nc2Xz1m0WKcj",
        "outputId": "0b04f289-8baa-42aa-8a79-c174fc301a31"
      },
      "execution_count": null,
      "outputs": [
        {
          "output_type": "stream",
          "name": "stdout",
          "text": [
            "There are 9395 customers with complete addresses out of 9569 total customers.\n"
          ]
        }
      ]
    },
    {
      "cell_type": "code",
      "source": [
        "#Plot the total number of orders and revenue by state.\n",
        "# Calculate total revenue by state_province\n",
        "state_stats = df.groupby('state_province').agg({'order_id': 'count', 'total_amount': 'sum'})\n",
        "\n",
        "# Create a bar chart of the total number of orders by state\n",
        "plt.figure(figsize=(10, 6))\n",
        "plt.bar(state_stats.index, state_stats['order_id'])\n",
        "plt.title('Total Number of Orders by State')\n",
        "plt.xlabel('State')\n",
        "plt.ylabel('Number of Orders')\n",
        "plt.show()"
      ],
      "metadata": {
        "colab": {
          "base_uri": "https://localhost:8080/",
          "height": 404
        },
        "id": "zgp7uWsCWF0v",
        "outputId": "1ada4786-ba76-495d-fd36-0d9380338776"
      },
      "execution_count": null,
      "outputs": [
        {
          "output_type": "display_data",
          "data": {
            "text/plain": [
              "<Figure size 720x432 with 1 Axes>"
            ],
            "image/png": "[encoded data removed]"
          },
          "metadata": {
            "needs_background": "light"
          }
        }
      ]
    }
  ]
}